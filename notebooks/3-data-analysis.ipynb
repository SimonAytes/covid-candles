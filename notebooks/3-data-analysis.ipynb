{
 "cells": [
  {
   "cell_type": "code",
   "execution_count": 48,
   "metadata": {},
   "outputs": [],
   "source": [
    "import csv\n",
    "import os\n",
    "import pandas as pd\n",
    "from datetime import timedelta\n",
    "import datetime as dt"
   ]
  },
  {
   "cell_type": "code",
   "execution_count": 2,
   "metadata": {},
   "outputs": [],
   "source": [
    "# Get path to the repo directory\n",
    "dir_path = \"/\".join(os.getcwd().split(\"/\")[0:-1])"
   ]
  },
  {
   "cell_type": "markdown",
   "metadata": {},
   "source": [
    "# 1. Load Data"
   ]
  },
  {
   "cell_type": "code",
   "execution_count": 95,
   "metadata": {},
   "outputs": [],
   "source": [
    "negative_reviews_smell = pd.read_csv(open(dir_path + \"/data/interim/negative-reviews-smell.csv\"))"
   ]
  },
  {
   "cell_type": "code",
   "execution_count": 96,
   "metadata": {},
   "outputs": [
    {
     "data": {
      "text/html": [
       "<div>\n",
       "<style scoped>\n",
       "    .dataframe tbody tr th:only-of-type {\n",
       "        vertical-align: middle;\n",
       "    }\n",
       "\n",
       "    .dataframe tbody tr th {\n",
       "        vertical-align: top;\n",
       "    }\n",
       "\n",
       "    .dataframe thead th {\n",
       "        text-align: right;\n",
       "    }\n",
       "</style>\n",
       "<table border=\"1\" class=\"dataframe\">\n",
       "  <thead>\n",
       "    <tr style=\"text-align: right;\">\n",
       "      <th></th>\n",
       "      <th>Unnamed: 0</th>\n",
       "      <th>product_title</th>\n",
       "      <th>asin</th>\n",
       "      <th>author</th>\n",
       "      <th>review</th>\n",
       "      <th>rating</th>\n",
       "      <th>date</th>\n",
       "      <th>url</th>\n",
       "      <th>sentiment</th>\n",
       "    </tr>\n",
       "  </thead>\n",
       "  <tbody>\n",
       "    <tr>\n",
       "      <th>0</th>\n",
       "      <td>4096</td>\n",
       "      <td>Yankee Candle Large Jar Candle Bahama Breeze</td>\n",
       "      <td>B004G9DV66</td>\n",
       "      <td>Zombie Gil 007</td>\n",
       "      <td>I used to love Yankee Candle, sadly not anymor...</td>\n",
       "      <td>2.0</td>\n",
       "      <td>2020-03-01</td>\n",
       "      <td>https://www.amazon.com/s?k=yankee+candles&amp;crid...</td>\n",
       "      <td>negative</td>\n",
       "    </tr>\n",
       "    <tr>\n",
       "      <th>1</th>\n",
       "      <td>6257</td>\n",
       "      <td>Yankee Candle Large Jar Candle, Silver Birch</td>\n",
       "      <td>B00J6CH1VO</td>\n",
       "      <td>AnnaMarie</td>\n",
       "      <td>Complete waste of money! No smell whatsoever!!...</td>\n",
       "      <td>1.0</td>\n",
       "      <td>2020-03-06</td>\n",
       "      <td>https://www.amazon.com/s?k=yankee+candles&amp;crid...</td>\n",
       "      <td>negative</td>\n",
       "    </tr>\n",
       "    <tr>\n",
       "      <th>2</th>\n",
       "      <td>10136</td>\n",
       "      <td>Yankee Candle Large Jar Candle Sage &amp; Citrus</td>\n",
       "      <td>B000RY54LO</td>\n",
       "      <td>cindy martin</td>\n",
       "      <td>Hate the scent</td>\n",
       "      <td>1.0</td>\n",
       "      <td>2020-03-07</td>\n",
       "      <td>https://www.amazon.com/s?k=yankee+candles&amp;crid...</td>\n",
       "      <td>negative</td>\n",
       "    </tr>\n",
       "    <tr>\n",
       "      <th>3</th>\n",
       "      <td>7324</td>\n",
       "      <td>Yankee Candle Large Jar Candle Café Al Fresco</td>\n",
       "      <td>B01NAAQLZ1</td>\n",
       "      <td>Rebecca Silberstein</td>\n",
       "      <td>First the wick was not centered so the burn wa...</td>\n",
       "      <td>1.0</td>\n",
       "      <td>2020-03-07</td>\n",
       "      <td>https://www.amazon.com/s?k=yankee+candles&amp;crid...</td>\n",
       "      <td>negative</td>\n",
       "    </tr>\n",
       "    <tr>\n",
       "      <th>4</th>\n",
       "      <td>9816</td>\n",
       "      <td>Yankee Candle Large Jar Candle French Vanilla</td>\n",
       "      <td>B000W3T9GG</td>\n",
       "      <td>Rebecca Silberstein</td>\n",
       "      <td>First the wick was not centered so the burn wa...</td>\n",
       "      <td>1.0</td>\n",
       "      <td>2020-03-07</td>\n",
       "      <td>https://www.amazon.com/s?k=yankee+candles&amp;crid...</td>\n",
       "      <td>negative</td>\n",
       "    </tr>\n",
       "    <tr>\n",
       "      <th>...</th>\n",
       "      <td>...</td>\n",
       "      <td>...</td>\n",
       "      <td>...</td>\n",
       "      <td>...</td>\n",
       "      <td>...</td>\n",
       "      <td>...</td>\n",
       "      <td>...</td>\n",
       "      <td>...</td>\n",
       "      <td>...</td>\n",
       "    </tr>\n",
       "    <tr>\n",
       "      <th>827</th>\n",
       "      <td>8437</td>\n",
       "      <td>Yankee Candle Large Jar Candle, Autumn Wreath</td>\n",
       "      <td>B000TVJ6XW</td>\n",
       "      <td>Philly T.</td>\n",
       "      <td>This candle burned out constantly. I trimmed w...</td>\n",
       "      <td>1.0</td>\n",
       "      <td>2022-01-15</td>\n",
       "      <td>https://www.amazon.com/s?k=yankee+candles&amp;crid...</td>\n",
       "      <td>negative</td>\n",
       "    </tr>\n",
       "    <tr>\n",
       "      <th>828</th>\n",
       "      <td>3357</td>\n",
       "      <td>Yankee Candle Large 2-Wick Tumbler Candle, Spi...</td>\n",
       "      <td>B004USM1A0</td>\n",
       "      <td>Philly T.</td>\n",
       "      <td>This candle burned out constantly. I trimmed w...</td>\n",
       "      <td>1.0</td>\n",
       "      <td>2022-01-15</td>\n",
       "      <td>https://www.amazon.com/s?k=yankee+candles&amp;crid...</td>\n",
       "      <td>negative</td>\n",
       "    </tr>\n",
       "    <tr>\n",
       "      <th>829</th>\n",
       "      <td>5131</td>\n",
       "      <td>Yankee Candle Balsam &amp; Cedar Scented Candles, ...</td>\n",
       "      <td>B002UE6YQ8</td>\n",
       "      <td>MJ</td>\n",
       "      <td>I was sent an old expired candle, it was so ol...</td>\n",
       "      <td>1.0</td>\n",
       "      <td>2022-01-15</td>\n",
       "      <td>https://www.amazon.com/s?k=yankee+candles&amp;crid...</td>\n",
       "      <td>negative</td>\n",
       "    </tr>\n",
       "    <tr>\n",
       "      <th>830</th>\n",
       "      <td>567</td>\n",
       "      <td>Yankee Candle Large Jar Candle Spiced Pumpkin</td>\n",
       "      <td>B000W3V8S8</td>\n",
       "      <td>Philly T.</td>\n",
       "      <td>This candle burned out constantly. I trimmed w...</td>\n",
       "      <td>1.0</td>\n",
       "      <td>2022-01-15</td>\n",
       "      <td>https://www.amazon.com/s?k=yankee+candles&amp;crid...</td>\n",
       "      <td>negative</td>\n",
       "    </tr>\n",
       "    <tr>\n",
       "      <th>831</th>\n",
       "      <td>5333</td>\n",
       "      <td>Yankee Candle Balsam &amp; Cedar Scented Candles, ...</td>\n",
       "      <td>B002UE6YQ8</td>\n",
       "      <td>Juan A. Ramirez jr.</td>\n",
       "      <td>I dislike that there was very little scent</td>\n",
       "      <td>1.0</td>\n",
       "      <td>2022-01-16</td>\n",
       "      <td>https://www.amazon.com/s?k=yankee+candles&amp;crid...</td>\n",
       "      <td>negative</td>\n",
       "    </tr>\n",
       "  </tbody>\n",
       "</table>\n",
       "<p>832 rows × 9 columns</p>\n",
       "</div>"
      ],
      "text/plain": [
       "     Unnamed: 0                                      product_title  \\\n",
       "0          4096       Yankee Candle Large Jar Candle Bahama Breeze   \n",
       "1          6257       Yankee Candle Large Jar Candle, Silver Birch   \n",
       "2         10136       Yankee Candle Large Jar Candle Sage & Citrus   \n",
       "3          7324      Yankee Candle Large Jar Candle Café Al Fresco   \n",
       "4          9816      Yankee Candle Large Jar Candle French Vanilla   \n",
       "..          ...                                                ...   \n",
       "827        8437      Yankee Candle Large Jar Candle, Autumn Wreath   \n",
       "828        3357  Yankee Candle Large 2-Wick Tumbler Candle, Spi...   \n",
       "829        5131  Yankee Candle Balsam & Cedar Scented Candles, ...   \n",
       "830         567      Yankee Candle Large Jar Candle Spiced Pumpkin   \n",
       "831        5333  Yankee Candle Balsam & Cedar Scented Candles, ...   \n",
       "\n",
       "           asin               author  \\\n",
       "0    B004G9DV66       Zombie Gil 007   \n",
       "1    B00J6CH1VO            AnnaMarie   \n",
       "2    B000RY54LO         cindy martin   \n",
       "3    B01NAAQLZ1  Rebecca Silberstein   \n",
       "4    B000W3T9GG  Rebecca Silberstein   \n",
       "..          ...                  ...   \n",
       "827  B000TVJ6XW            Philly T.   \n",
       "828  B004USM1A0            Philly T.   \n",
       "829  B002UE6YQ8                   MJ   \n",
       "830  B000W3V8S8            Philly T.   \n",
       "831  B002UE6YQ8  Juan A. Ramirez jr.   \n",
       "\n",
       "                                                review  rating        date  \\\n",
       "0    I used to love Yankee Candle, sadly not anymor...     2.0  2020-03-01   \n",
       "1    Complete waste of money! No smell whatsoever!!...     1.0  2020-03-06   \n",
       "2                                       Hate the scent     1.0  2020-03-07   \n",
       "3    First the wick was not centered so the burn wa...     1.0  2020-03-07   \n",
       "4    First the wick was not centered so the burn wa...     1.0  2020-03-07   \n",
       "..                                                 ...     ...         ...   \n",
       "827  This candle burned out constantly. I trimmed w...     1.0  2022-01-15   \n",
       "828  This candle burned out constantly. I trimmed w...     1.0  2022-01-15   \n",
       "829  I was sent an old expired candle, it was so ol...     1.0  2022-01-15   \n",
       "830  This candle burned out constantly. I trimmed w...     1.0  2022-01-15   \n",
       "831         I dislike that there was very little scent     1.0  2022-01-16   \n",
       "\n",
       "                                                   url sentiment  \n",
       "0    https://www.amazon.com/s?k=yankee+candles&crid...  negative  \n",
       "1    https://www.amazon.com/s?k=yankee+candles&crid...  negative  \n",
       "2    https://www.amazon.com/s?k=yankee+candles&crid...  negative  \n",
       "3    https://www.amazon.com/s?k=yankee+candles&crid...  negative  \n",
       "4    https://www.amazon.com/s?k=yankee+candles&crid...  negative  \n",
       "..                                                 ...       ...  \n",
       "827  https://www.amazon.com/s?k=yankee+candles&crid...  negative  \n",
       "828  https://www.amazon.com/s?k=yankee+candles&crid...  negative  \n",
       "829  https://www.amazon.com/s?k=yankee+candles&crid...  negative  \n",
       "830  https://www.amazon.com/s?k=yankee+candles&crid...  negative  \n",
       "831  https://www.amazon.com/s?k=yankee+candles&crid...  negative  \n",
       "\n",
       "[832 rows x 9 columns]"
      ]
     },
     "execution_count": 96,
     "metadata": {},
     "output_type": "execute_result"
    }
   ],
   "source": [
    "negative_reviews_smell"
   ]
  },
  {
   "cell_type": "markdown",
   "metadata": {},
   "source": [
    "# 2. Split data by week"
   ]
  },
  {
   "cell_type": "code",
   "execution_count": 97,
   "metadata": {},
   "outputs": [],
   "source": [
    "# Declare loop variables\n",
    "start_date = dt.datetime(2020, 3, 1)\n",
    "end_date = dt.datetime(2022, 1, 16)\n",
    "curr_week = 1\n",
    "delta = timedelta(days=7)\n",
    "\n",
    "# To be appended to df\n",
    "weeks = []"
   ]
  },
  {
   "cell_type": "code",
   "execution_count": 98,
   "metadata": {},
   "outputs": [],
   "source": [
    "# Loop until the lower-bound date is greater than the end date\n",
    "while start_date <= end_date:\n",
    "    # Loop through each element of the data frame\n",
    "    for index, row in negative_reviews_smell.iterrows():\n",
    "        # Cast row['date'] to datetime object\n",
    "        t_dt = dt.datetime.strptime(row['date'], '%Y-%m-%d')\n",
    "        \n",
    "        # Check if the row's date is within the bounds\n",
    "        if t_dt >= start_date:\n",
    "            if t_dt < (start_date + delta):\n",
    "                # If it is, append current week to 'weeks'\n",
    "                weeks.append(curr_week)\n",
    "                \n",
    "    # Increment date boundaries\n",
    "    start_date = start_date + delta\n",
    "    #end_date = end_date + delta\n",
    "    \n",
    "    # Increment current week\n",
    "    curr_week = curr_week + 1"
   ]
  },
  {
   "cell_type": "code",
   "execution_count": 99,
   "metadata": {},
   "outputs": [],
   "source": [
    "# Append weeks column to data frame\n",
    "negative_reviews_smell['week_no'] = weeks"
   ]
  },
  {
   "cell_type": "code",
   "execution_count": 107,
   "metadata": {},
   "outputs": [
    {
     "data": {
      "text/plain": [
       "93    35\n",
       "96    29\n",
       "32    24\n",
       "34    24\n",
       "38    22\n",
       "      ..\n",
       "67     2\n",
       "18     1\n",
       "85     1\n",
       "72     1\n",
       "99     1\n",
       "Name: week_no, Length: 95, dtype: int64"
      ]
     },
     "execution_count": 107,
     "metadata": {},
     "output_type": "execute_result"
    }
   ],
   "source": [
    "# Examine the distribution of each week's reviews\n",
    "negative_reviews_smell['week_no'].value_counts()"
   ]
  },
  {
   "cell_type": "markdown",
   "metadata": {},
   "source": [
    "# 3. Examine December 2021 data"
   ]
  },
  {
   "cell_type": "code",
   "execution_count": 113,
   "metadata": {},
   "outputs": [],
   "source": [
    "# Subset data to include only reviews left in December of 2021\n",
    "december_21_data = negative_reviews_smell[negative_reviews_smell['date'].str.contains(\"2021-12\")]"
   ]
  },
  {
   "cell_type": "code",
   "execution_count": 114,
   "metadata": {},
   "outputs": [
    {
     "data": {
      "text/plain": [
       "<AxesSubplot:>"
      ]
     },
     "execution_count": 114,
     "metadata": {},
     "output_type": "execute_result"
    },
    {
     "data": {
      "image/png": "[encoded data removed]",
      "text/plain": [
       "<Figure size 432x288 with 1 Axes>"
      ]
     },
     "metadata": {
      "needs_background": "light"
     },
     "output_type": "display_data"
    }
   ],
   "source": [
    "# Preview data by looking into each week's count\n",
    "december_21_data['week_no'].value_counts().plot(kind='barh')"
   ]
  },
  {
   "cell_type": "code",
   "execution_count": null,
   "metadata": {},
   "outputs": [],
   "source": []
  }
 ],
 "metadata": {
  "kernelspec": {
   "display_name": "Python 3",
   "language": "python",
   "name": "python3"
  },
  "language_info": {
   "codemirror_mode": {
    "name": "ipython",
    "version": 3
   },
   "file_extension": ".py",
   "mimetype": "text/x-python",
   "name": "python",
   "nbconvert_exporter": "python",
   "pygments_lexer": "ipython3",
   "version": "3.8.5"
  }
 },
 "nbformat": 4,
 "nbformat_minor": 4
}
