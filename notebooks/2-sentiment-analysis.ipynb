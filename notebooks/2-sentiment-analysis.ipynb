{
 "cells": [
  {
   "cell_type": "markdown",
   "metadata": {},
   "source": [
    "# Import Packages"
   ]
  },
  {
   "cell_type": "code",
   "execution_count": 51,
   "metadata": {},
   "outputs": [],
   "source": [
    "import pandas as pd\n",
    "import csv\n",
    "import os\n",
    "import nltk\n",
    "from nltk.sentiment import SentimentIntensityAnalyzer"
   ]
  },
  {
   "cell_type": "code",
   "execution_count": 52,
   "metadata": {
    "collapsed": true,
    "jupyter": {
     "outputs_hidden": true
    }
   },
   "outputs": [
    {
     "name": "stderr",
     "output_type": "stream",
     "text": [
      "[nltk_data] Downloading package names to /Users/simon/nltk_data...\n",
      "[nltk_data]   Package names is already up-to-date!\n",
      "[nltk_data] Downloading package stopwords to /Users/simon/nltk_data...\n",
      "[nltk_data]   Package stopwords is already up-to-date!\n",
      "[nltk_data] Downloading package state_union to\n",
      "[nltk_data]     /Users/simon/nltk_data...\n",
      "[nltk_data]   Package state_union is already up-to-date!\n",
      "[nltk_data] Downloading package twitter_samples to\n",
      "[nltk_data]     /Users/simon/nltk_data...\n",
      "[nltk_data]   Package twitter_samples is already up-to-date!\n",
      "[nltk_data] Downloading package movie_reviews to\n",
      "[nltk_data]     /Users/simon/nltk_data...\n",
      "[nltk_data]   Package movie_reviews is already up-to-date!\n",
      "[nltk_data] Downloading package averaged_perceptron_tagger to\n",
      "[nltk_data]     /Users/simon/nltk_data...\n",
      "[nltk_data]   Package averaged_perceptron_tagger is already up-to-\n",
      "[nltk_data]       date!\n",
      "[nltk_data] Downloading package vader_lexicon to\n",
      "[nltk_data]     /Users/simon/nltk_data...\n",
      "[nltk_data]   Package vader_lexicon is already up-to-date!\n",
      "[nltk_data] Downloading package punkt to /Users/simon/nltk_data...\n",
      "[nltk_data]   Package punkt is already up-to-date!\n"
     ]
    },
    {
     "data": {
      "text/plain": [
       "True"
      ]
     },
     "execution_count": 52,
     "metadata": {},
     "output_type": "execute_result"
    }
   ],
   "source": [
    "# Download NLTK packages\n",
    "nltk.download([\n",
    "     \"names\",\n",
    "     \"stopwords\",\n",
    "     \"state_union\",\n",
    "     \"twitter_samples\",\n",
    "     \"movie_reviews\",\n",
    "     \"averaged_perceptron_tagger\",\n",
    "     \"vader_lexicon\",\n",
    "     \"punkt\"])"
   ]
  },
  {
   "cell_type": "markdown",
   "metadata": {},
   "source": [
    "# 1. Load in data from \"Interim\" folder"
   ]
  },
  {
   "cell_type": "code",
   "execution_count": 105,
   "metadata": {},
   "outputs": [],
   "source": [
    "# Get path to the repo directory\n",
    "dir_path = \"/\".join(os.getcwd().split(\"/\")[0:-1])"
   ]
  },
  {
   "cell_type": "code",
   "execution_count": 108,
   "metadata": {},
   "outputs": [],
   "source": [
    "# Load in previously gathered reviews\n",
    "reviews = pd.read_csv(open(dir_path + \"/data/interim/reviews-cleaned.csv\"))"
   ]
  },
  {
   "cell_type": "code",
   "execution_count": 109,
   "metadata": {},
   "outputs": [
    {
     "data": {
      "text/html": [
       "<div>\n",
       "<style scoped>\n",
       "    .dataframe tbody tr th:only-of-type {\n",
       "        vertical-align: middle;\n",
       "    }\n",
       "\n",
       "    .dataframe tbody tr th {\n",
       "        vertical-align: top;\n",
       "    }\n",
       "\n",
       "    .dataframe thead th {\n",
       "        text-align: right;\n",
       "    }\n",
       "</style>\n",
       "<table border=\"1\" class=\"dataframe\">\n",
       "  <thead>\n",
       "    <tr style=\"text-align: right;\">\n",
       "      <th></th>\n",
       "      <th>Unnamed: 0</th>\n",
       "      <th>product_title</th>\n",
       "      <th>asin</th>\n",
       "      <th>author</th>\n",
       "      <th>review</th>\n",
       "      <th>rating</th>\n",
       "      <th>date</th>\n",
       "      <th>url</th>\n",
       "    </tr>\n",
       "  </thead>\n",
       "  <tbody>\n",
       "    <tr>\n",
       "      <th>0</th>\n",
       "      <td>8</td>\n",
       "      <td>Yankee Candle Large Jar Candle Home Sweet Home</td>\n",
       "      <td>B000WUFVR0</td>\n",
       "      <td>Amazon Customer</td>\n",
       "      <td>The media could not be loaded. I apologize for...</td>\n",
       "      <td>1.0</td>\n",
       "      <td>2020-09-17</td>\n",
       "      <td>https://www.amazon.com/s?k=yankee+candles&amp;crid...</td>\n",
       "    </tr>\n",
       "  </tbody>\n",
       "</table>\n",
       "</div>"
      ],
      "text/plain": [
       "   Unnamed: 0                                   product_title        asin  \\\n",
       "0           8  Yankee Candle Large Jar Candle Home Sweet Home  B000WUFVR0   \n",
       "\n",
       "            author                                             review  rating  \\\n",
       "0  Amazon Customer  The media could not be loaded. I apologize for...     1.0   \n",
       "\n",
       "         date                                                url  \n",
       "0  2020-09-17  https://www.amazon.com/s?k=yankee+candles&crid...  "
      ]
     },
     "execution_count": 109,
     "metadata": {},
     "output_type": "execute_result"
    }
   ],
   "source": [
    "# Preview file\n",
    "reviews.head(1)"
   ]
  },
  {
   "cell_type": "markdown",
   "metadata": {},
   "source": [
    "# 2. Explore Data"
   ]
  },
  {
   "cell_type": "code",
   "execution_count": 110,
   "metadata": {},
   "outputs": [
    {
     "data": {
      "text/plain": [
       "<AxesSubplot:>"
      ]
     },
     "execution_count": 110,
     "metadata": {},
     "output_type": "execute_result"
    },
    {
     "data": {
      "image/png": "[encoded data removed]",
      "text/plain": [
       "<Figure size 432x288 with 1 Axes>"
      ]
     },
     "metadata": {
      "needs_background": "light"
     },
     "output_type": "display_data"
    }
   ],
   "source": [
    "# View the distributions of ratings\n",
    "reviews['rating'].value_counts().plot(kind='barh')"
   ]
  },
  {
   "cell_type": "code",
   "execution_count": 111,
   "metadata": {},
   "outputs": [
    {
     "data": {
      "text/plain": [
       "2021-12-28    58\n",
       "2021-12-23    38\n",
       "2022-01-12    37\n",
       "2020-10-21    35\n",
       "2020-11-23    31\n",
       "              ..\n",
       "2020-07-01     1\n",
       "2020-03-10     1\n",
       "2020-03-13     1\n",
       "2020-07-31     1\n",
       "2020-04-26     1\n",
       "Name: date, Length: 670, dtype: int64"
      ]
     },
     "execution_count": 111,
     "metadata": {},
     "output_type": "execute_result"
    }
   ],
   "source": [
    "# View the distributions of dates\n",
    "reviews['date'].value_counts()"
   ]
  },
  {
   "cell_type": "markdown",
   "metadata": {},
   "source": [
    "# 3. Sentiment Analysis"
   ]
  },
  {
   "cell_type": "code",
   "execution_count": 112,
   "metadata": {},
   "outputs": [],
   "source": [
    "# Create a sentiment analyzer\n",
    "sentiment_analyzer = SentimentIntensityAnalyzer()\n",
    "\n",
    "# Create an empty list to house sentiments\n",
    "sentiment = []"
   ]
  },
  {
   "cell_type": "code",
   "execution_count": 113,
   "metadata": {},
   "outputs": [],
   "source": [
    "# Iterate through each row of \"reviews\"\n",
    "for index, row in reviews.iterrows():\n",
    "    # Try to analyze the sentiment (if not na)\n",
    "    try:\n",
    "        # Analyze the review\n",
    "        t = sentiment_analyzer.polarity_scores(row['review'])\n",
    "\n",
    "        # Assign sentiment based on compound sentiment value\n",
    "        # If it is positive, mark positive\n",
    "        if t['compound'] > 0:\n",
    "            sentiment.append(\"positive\")\n",
    "        # If it is negative, mark negative\n",
    "        elif t['compound'] < 0:\n",
    "            sentiment.append(\"negative\")\n",
    "        # Else, mark neutral\n",
    "        else:\n",
    "            sentiment.append(\"neutral\")\n",
    "\n",
    "    # Mark all failed attempts as \"na\"\n",
    "    except:\n",
    "        sentiment.append(\"na\")"
   ]
  },
  {
   "cell_type": "code",
   "execution_count": 115,
   "metadata": {},
   "outputs": [],
   "source": [
    "# Create new column in \"reviews\" that contains the sentiment of each review\n",
    "reviews['sentiment'] = sentiment"
   ]
  },
  {
   "cell_type": "code",
   "execution_count": 128,
   "metadata": {},
   "outputs": [
    {
     "data": {
      "text/html": [
       "<div>\n",
       "<style scoped>\n",
       "    .dataframe tbody tr th:only-of-type {\n",
       "        vertical-align: middle;\n",
       "    }\n",
       "\n",
       "    .dataframe tbody tr th {\n",
       "        vertical-align: top;\n",
       "    }\n",
       "\n",
       "    .dataframe thead th {\n",
       "        text-align: right;\n",
       "    }\n",
       "</style>\n",
       "<table border=\"1\" class=\"dataframe\">\n",
       "  <thead>\n",
       "    <tr style=\"text-align: right;\">\n",
       "      <th></th>\n",
       "      <th>Unnamed: 0</th>\n",
       "      <th>product_title</th>\n",
       "      <th>asin</th>\n",
       "      <th>author</th>\n",
       "      <th>review</th>\n",
       "      <th>rating</th>\n",
       "      <th>date</th>\n",
       "      <th>url</th>\n",
       "      <th>sentiment</th>\n",
       "    </tr>\n",
       "  </thead>\n",
       "  <tbody>\n",
       "    <tr>\n",
       "      <th>0</th>\n",
       "      <td>8</td>\n",
       "      <td>Yankee Candle Large Jar Candle Home Sweet Home</td>\n",
       "      <td>B000WUFVR0</td>\n",
       "      <td>Amazon Customer</td>\n",
       "      <td>The media could not be loaded. I apologize for...</td>\n",
       "      <td>1.0</td>\n",
       "      <td>2020-09-17</td>\n",
       "      <td>https://www.amazon.com/s?k=yankee+candles&amp;crid...</td>\n",
       "      <td>positive</td>\n",
       "    </tr>\n",
       "  </tbody>\n",
       "</table>\n",
       "</div>"
      ],
      "text/plain": [
       "   Unnamed: 0                                   product_title        asin  \\\n",
       "0           8  Yankee Candle Large Jar Candle Home Sweet Home  B000WUFVR0   \n",
       "\n",
       "            author                                             review  rating  \\\n",
       "0  Amazon Customer  The media could not be loaded. I apologize for...     1.0   \n",
       "\n",
       "         date                                                url sentiment  \n",
       "0  2020-09-17  https://www.amazon.com/s?k=yankee+candles&crid...  positive  "
      ]
     },
     "execution_count": 128,
     "metadata": {},
     "output_type": "execute_result"
    }
   ],
   "source": [
    "# Preview data\n",
    "reviews.head(1)"
   ]
  },
  {
   "cell_type": "code",
   "execution_count": 129,
   "metadata": {},
   "outputs": [
    {
     "data": {
      "text/plain": [
       "<AxesSubplot:>"
      ]
     },
     "execution_count": 129,
     "metadata": {},
     "output_type": "execute_result"
    },
    {
     "data": {
      "image/png": "[encoded data removed]",
      "text/plain": [
       "<Figure size 432x288 with 1 Axes>"
      ]
     },
     "metadata": {
      "needs_background": "light"
     },
     "output_type": "display_data"
    }
   ],
   "source": [
    "# View the distribution of sentiments\n",
    "reviews['sentiment'].value_counts().plot(kind='barh')"
   ]
  },
  {
   "cell_type": "markdown",
   "metadata": {},
   "source": [
    "## Output classified reviews"
   ]
  },
  {
   "cell_type": "code",
   "execution_count": 134,
   "metadata": {},
   "outputs": [],
   "source": [
    "reviews.to_csv((dir_path + \"/data/interim/reviews-classified.csv\"), index = False)"
   ]
  },
  {
   "cell_type": "markdown",
   "metadata": {},
   "source": [
    "# 4. Analyze sentiment data"
   ]
  },
  {
   "cell_type": "markdown",
   "metadata": {},
   "source": [
    "## Collect all negative reviews"
   ]
  },
  {
   "cell_type": "code",
   "execution_count": 118,
   "metadata": {},
   "outputs": [],
   "source": [
    "# Create a new dataframe containing all negative reviews whose rating is less than 3/5\n",
    "negative_reviews = reviews[reviews['sentiment'] == \"negative\"]\n",
    "negative_reviews = negative_reviews[negative_reviews['rating'] < 3.0]"
   ]
  },
  {
   "cell_type": "code",
   "execution_count": 132,
   "metadata": {},
   "outputs": [
    {
     "data": {
      "text/plain": [
       "<AxesSubplot:>"
      ]
     },
     "execution_count": 132,
     "metadata": {},
     "output_type": "execute_result"
    },
    {
     "data": {
      "image/png": "[encoded data removed]",
      "text/plain": [
       "<Figure size 432x288 with 1 Axes>"
      ]
     },
     "metadata": {
      "needs_background": "light"
     },
     "output_type": "display_data"
    }
   ],
   "source": [
    "# Visualize rating distribution\n",
    "negative_reviews['rating'].value_counts().plot(kind=\"barh\")"
   ]
  },
  {
   "cell_type": "markdown",
   "metadata": {},
   "source": [
    "## Subset by mention of smell"
   ]
  },
  {
   "cell_type": "code",
   "execution_count": 122,
   "metadata": {},
   "outputs": [],
   "source": [
    "# Gather all negative reviews that mention smell, scent, or fragrance\n",
    "negative_reviews_smell = negative_reviews.loc[negative_reviews['review'].str.contains('scent|smell|fragrance'),:]"
   ]
  },
  {
   "cell_type": "code",
   "execution_count": 133,
   "metadata": {},
   "outputs": [],
   "source": [
    "# Sort the results by date\n",
    "negative_reviews_smell = negative_reviews_smell.sort_values(by=\"date\")"
   ]
  },
  {
   "cell_type": "code",
   "execution_count": 135,
   "metadata": {},
   "outputs": [
    {
     "data": {
      "text/html": [
       "<div>\n",
       "<style scoped>\n",
       "    .dataframe tbody tr th:only-of-type {\n",
       "        vertical-align: middle;\n",
       "    }\n",
       "\n",
       "    .dataframe tbody tr th {\n",
       "        vertical-align: top;\n",
       "    }\n",
       "\n",
       "    .dataframe thead th {\n",
       "        text-align: right;\n",
       "    }\n",
       "</style>\n",
       "<table border=\"1\" class=\"dataframe\">\n",
       "  <thead>\n",
       "    <tr style=\"text-align: right;\">\n",
       "      <th></th>\n",
       "      <th>Unnamed: 0</th>\n",
       "      <th>product_title</th>\n",
       "      <th>asin</th>\n",
       "      <th>author</th>\n",
       "      <th>review</th>\n",
       "      <th>rating</th>\n",
       "      <th>date</th>\n",
       "      <th>url</th>\n",
       "      <th>sentiment</th>\n",
       "    </tr>\n",
       "  </thead>\n",
       "  <tbody>\n",
       "    <tr>\n",
       "      <th>2898</th>\n",
       "      <td>4096</td>\n",
       "      <td>Yankee Candle Large Jar Candle Bahama Breeze</td>\n",
       "      <td>B004G9DV66</td>\n",
       "      <td>Zombie Gil 007</td>\n",
       "      <td>I used to love Yankee Candle, sadly not anymor...</td>\n",
       "      <td>2.0</td>\n",
       "      <td>2020-03-01</td>\n",
       "      <td>https://www.amazon.com/s?k=yankee+candles&amp;crid...</td>\n",
       "      <td>negative</td>\n",
       "    </tr>\n",
       "    <tr>\n",
       "      <th>4245</th>\n",
       "      <td>6257</td>\n",
       "      <td>Yankee Candle Large Jar Candle, Silver Birch</td>\n",
       "      <td>B00J6CH1VO</td>\n",
       "      <td>AnnaMarie</td>\n",
       "      <td>Complete waste of money! No smell whatsoever!!...</td>\n",
       "      <td>1.0</td>\n",
       "      <td>2020-03-06</td>\n",
       "      <td>https://www.amazon.com/s?k=yankee+candles&amp;crid...</td>\n",
       "      <td>negative</td>\n",
       "    </tr>\n",
       "    <tr>\n",
       "      <th>6737</th>\n",
       "      <td>10136</td>\n",
       "      <td>Yankee Candle Large Jar Candle Sage &amp; Citrus</td>\n",
       "      <td>B000RY54LO</td>\n",
       "      <td>cindy martin</td>\n",
       "      <td>Hate the scent</td>\n",
       "      <td>1.0</td>\n",
       "      <td>2020-03-07</td>\n",
       "      <td>https://www.amazon.com/s?k=yankee+candles&amp;crid...</td>\n",
       "      <td>negative</td>\n",
       "    </tr>\n",
       "    <tr>\n",
       "      <th>4968</th>\n",
       "      <td>7324</td>\n",
       "      <td>Yankee Candle Large Jar Candle Café Al Fresco</td>\n",
       "      <td>B01NAAQLZ1</td>\n",
       "      <td>Rebecca Silberstein</td>\n",
       "      <td>First the wick was not centered so the burn wa...</td>\n",
       "      <td>1.0</td>\n",
       "      <td>2020-03-07</td>\n",
       "      <td>https://www.amazon.com/s?k=yankee+candles&amp;crid...</td>\n",
       "      <td>negative</td>\n",
       "    </tr>\n",
       "    <tr>\n",
       "      <th>6534</th>\n",
       "      <td>9816</td>\n",
       "      <td>Yankee Candle Large Jar Candle French Vanilla</td>\n",
       "      <td>B000W3T9GG</td>\n",
       "      <td>Rebecca Silberstein</td>\n",
       "      <td>First the wick was not centered so the burn wa...</td>\n",
       "      <td>1.0</td>\n",
       "      <td>2020-03-07</td>\n",
       "      <td>https://www.amazon.com/s?k=yankee+candles&amp;crid...</td>\n",
       "      <td>negative</td>\n",
       "    </tr>\n",
       "    <tr>\n",
       "      <th>...</th>\n",
       "      <td>...</td>\n",
       "      <td>...</td>\n",
       "      <td>...</td>\n",
       "      <td>...</td>\n",
       "      <td>...</td>\n",
       "      <td>...</td>\n",
       "      <td>...</td>\n",
       "      <td>...</td>\n",
       "      <td>...</td>\n",
       "    </tr>\n",
       "    <tr>\n",
       "      <th>5709</th>\n",
       "      <td>8437</td>\n",
       "      <td>Yankee Candle Large Jar Candle, Autumn Wreath</td>\n",
       "      <td>B000TVJ6XW</td>\n",
       "      <td>Philly T.</td>\n",
       "      <td>This candle burned out constantly. I trimmed w...</td>\n",
       "      <td>1.0</td>\n",
       "      <td>2022-01-15</td>\n",
       "      <td>https://www.amazon.com/s?k=yankee+candles&amp;crid...</td>\n",
       "      <td>negative</td>\n",
       "    </tr>\n",
       "    <tr>\n",
       "      <th>2348</th>\n",
       "      <td>3357</td>\n",
       "      <td>Yankee Candle Large 2-Wick Tumbler Candle, Spi...</td>\n",
       "      <td>B004USM1A0</td>\n",
       "      <td>Philly T.</td>\n",
       "      <td>This candle burned out constantly. I trimmed w...</td>\n",
       "      <td>1.0</td>\n",
       "      <td>2022-01-15</td>\n",
       "      <td>https://www.amazon.com/s?k=yankee+candles&amp;crid...</td>\n",
       "      <td>negative</td>\n",
       "    </tr>\n",
       "    <tr>\n",
       "      <th>3627</th>\n",
       "      <td>5131</td>\n",
       "      <td>Yankee Candle Balsam &amp; Cedar Scented Candles, ...</td>\n",
       "      <td>B002UE6YQ8</td>\n",
       "      <td>MJ</td>\n",
       "      <td>I was sent an old expired candle, it was so ol...</td>\n",
       "      <td>1.0</td>\n",
       "      <td>2022-01-15</td>\n",
       "      <td>https://www.amazon.com/s?k=yankee+candles&amp;crid...</td>\n",
       "      <td>negative</td>\n",
       "    </tr>\n",
       "    <tr>\n",
       "      <th>328</th>\n",
       "      <td>567</td>\n",
       "      <td>Yankee Candle Large Jar Candle Spiced Pumpkin</td>\n",
       "      <td>B000W3V8S8</td>\n",
       "      <td>Philly T.</td>\n",
       "      <td>This candle burned out constantly. I trimmed w...</td>\n",
       "      <td>1.0</td>\n",
       "      <td>2022-01-15</td>\n",
       "      <td>https://www.amazon.com/s?k=yankee+candles&amp;crid...</td>\n",
       "      <td>negative</td>\n",
       "    </tr>\n",
       "    <tr>\n",
       "      <th>3741</th>\n",
       "      <td>5333</td>\n",
       "      <td>Yankee Candle Balsam &amp; Cedar Scented Candles, ...</td>\n",
       "      <td>B002UE6YQ8</td>\n",
       "      <td>Juan A. Ramirez jr.</td>\n",
       "      <td>I dislike that there was very little scent</td>\n",
       "      <td>1.0</td>\n",
       "      <td>2022-01-16</td>\n",
       "      <td>https://www.amazon.com/s?k=yankee+candles&amp;crid...</td>\n",
       "      <td>negative</td>\n",
       "    </tr>\n",
       "  </tbody>\n",
       "</table>\n",
       "<p>832 rows × 9 columns</p>\n",
       "</div>"
      ],
      "text/plain": [
       "      Unnamed: 0                                      product_title  \\\n",
       "2898        4096       Yankee Candle Large Jar Candle Bahama Breeze   \n",
       "4245        6257       Yankee Candle Large Jar Candle, Silver Birch   \n",
       "6737       10136       Yankee Candle Large Jar Candle Sage & Citrus   \n",
       "4968        7324      Yankee Candle Large Jar Candle Café Al Fresco   \n",
       "6534        9816      Yankee Candle Large Jar Candle French Vanilla   \n",
       "...          ...                                                ...   \n",
       "5709        8437      Yankee Candle Large Jar Candle, Autumn Wreath   \n",
       "2348        3357  Yankee Candle Large 2-Wick Tumbler Candle, Spi...   \n",
       "3627        5131  Yankee Candle Balsam & Cedar Scented Candles, ...   \n",
       "328          567      Yankee Candle Large Jar Candle Spiced Pumpkin   \n",
       "3741        5333  Yankee Candle Balsam & Cedar Scented Candles, ...   \n",
       "\n",
       "            asin               author  \\\n",
       "2898  B004G9DV66       Zombie Gil 007   \n",
       "4245  B00J6CH1VO            AnnaMarie   \n",
       "6737  B000RY54LO         cindy martin   \n",
       "4968  B01NAAQLZ1  Rebecca Silberstein   \n",
       "6534  B000W3T9GG  Rebecca Silberstein   \n",
       "...          ...                  ...   \n",
       "5709  B000TVJ6XW            Philly T.   \n",
       "2348  B004USM1A0            Philly T.   \n",
       "3627  B002UE6YQ8                   MJ   \n",
       "328   B000W3V8S8            Philly T.   \n",
       "3741  B002UE6YQ8  Juan A. Ramirez jr.   \n",
       "\n",
       "                                                 review  rating        date  \\\n",
       "2898  I used to love Yankee Candle, sadly not anymor...     2.0  2020-03-01   \n",
       "4245  Complete waste of money! No smell whatsoever!!...     1.0  2020-03-06   \n",
       "6737                                     Hate the scent     1.0  2020-03-07   \n",
       "4968  First the wick was not centered so the burn wa...     1.0  2020-03-07   \n",
       "6534  First the wick was not centered so the burn wa...     1.0  2020-03-07   \n",
       "...                                                 ...     ...         ...   \n",
       "5709  This candle burned out constantly. I trimmed w...     1.0  2022-01-15   \n",
       "2348  This candle burned out constantly. I trimmed w...     1.0  2022-01-15   \n",
       "3627  I was sent an old expired candle, it was so ol...     1.0  2022-01-15   \n",
       "328   This candle burned out constantly. I trimmed w...     1.0  2022-01-15   \n",
       "3741         I dislike that there was very little scent     1.0  2022-01-16   \n",
       "\n",
       "                                                    url sentiment  \n",
       "2898  https://www.amazon.com/s?k=yankee+candles&crid...  negative  \n",
       "4245  https://www.amazon.com/s?k=yankee+candles&crid...  negative  \n",
       "6737  https://www.amazon.com/s?k=yankee+candles&crid...  negative  \n",
       "4968  https://www.amazon.com/s?k=yankee+candles&crid...  negative  \n",
       "6534  https://www.amazon.com/s?k=yankee+candles&crid...  negative  \n",
       "...                                                 ...       ...  \n",
       "5709  https://www.amazon.com/s?k=yankee+candles&crid...  negative  \n",
       "2348  https://www.amazon.com/s?k=yankee+candles&crid...  negative  \n",
       "3627  https://www.amazon.com/s?k=yankee+candles&crid...  negative  \n",
       "328   https://www.amazon.com/s?k=yankee+candles&crid...  negative  \n",
       "3741  https://www.amazon.com/s?k=yankee+candles&crid...  negative  \n",
       "\n",
       "[832 rows x 9 columns]"
      ]
     },
     "execution_count": 135,
     "metadata": {},
     "output_type": "execute_result"
    }
   ],
   "source": [
    "# Preview data\n",
    "negative_reviews_smell"
   ]
  },
  {
   "cell_type": "markdown",
   "metadata": {},
   "source": [
    "## Output negative reviews that mention smell"
   ]
  },
  {
   "cell_type": "code",
   "execution_count": 136,
   "metadata": {},
   "outputs": [],
   "source": [
    "negative_reviews_smell.to_csv((dir_path + \"/data/interim/negative-reviews-smell.csv\"), index = False)"
   ]
  }
 ],
 "metadata": {
  "kernelspec": {
   "display_name": "Python 3",
   "language": "python",
   "name": "python3"
  },
  "language_info": {
   "codemirror_mode": {
    "name": "ipython",
    "version": 3
   },
   "file_extension": ".py",
   "mimetype": "text/x-python",
   "name": "python",
   "nbconvert_exporter": "python",
   "pygments_lexer": "ipython3",
   "version": "3.8.5"
  }
 },
 "nbformat": 4,
 "nbformat_minor": 4
}
