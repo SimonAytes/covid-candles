{
 "cells": [
  {
   "cell_type": "markdown",
   "metadata": {},
   "source": [
    "# Covid Candles – Data Analysis\n",
    "----\n",
    "\n",
    "**Author:** Simon Aytes\n",
    "\n",
    "**[GitHub](https://github.com/SimonAytes)**\n",
    "\n",
    "**[Website](https://www.saytes.io)**"
   ]
  },
  {
   "cell_type": "markdown",
   "metadata": {},
   "source": [
    "## Import libraries"
   ]
  },
  {
   "cell_type": "code",
   "execution_count": 37,
   "metadata": {},
   "outputs": [],
   "source": [
    "import csv\n",
    "import os\n",
    "import pandas as pd\n",
    "from datetime import timedelta\n",
    "import datetime as dt\n",
    "import numpy as np\n",
    "from matplotlib import pyplot\n",
    "import matplotlib\n",
    "from matplotlib.dates import DateFormatter, DayLocator, MonthLocator\n",
    "%matplotlib inline"
   ]
  },
  {
   "cell_type": "code",
   "execution_count": 4,
   "metadata": {},
   "outputs": [],
   "source": [
    "# Get path to the repo directory\n",
    "dir_path = \"/\".join(os.getcwd().split(\"/\")[0:-1])"
   ]
  },
  {
   "cell_type": "markdown",
   "metadata": {},
   "source": [
    "# 1. Load processed data\n",
    "----"
   ]
  },
  {
   "cell_type": "code",
   "execution_count": 49,
   "metadata": {},
   "outputs": [],
   "source": [
    "negative_reviews_smell = pd.read_csv(open(dir_path + \"/data/interim/negative-reviews-smell.csv\"))"
   ]
  },
  {
   "cell_type": "code",
   "execution_count": 50,
   "metadata": {},
   "outputs": [],
   "source": [
    "covid_data = pd.read_csv((dir_path + \"/data/interim/covid_data.csv\"))"
   ]
  },
  {
   "cell_type": "markdown",
   "metadata": {
    "tags": []
   },
   "source": [
    "# 2. Combine COVID-19 data and review data\n",
    "----"
   ]
  },
  {
   "cell_type": "markdown",
   "metadata": {
    "tags": []
   },
   "source": [
    "## 2.1 Filter COVID-19 data"
   ]
  },
  {
   "cell_type": "code",
   "execution_count": 51,
   "metadata": {},
   "outputs": [],
   "source": [
    "covid_data = covid_data[['date', 'new_cases']]"
   ]
  },
  {
   "cell_type": "markdown",
   "metadata": {},
   "source": [
    "## 2.2 Calculate daily review counts"
   ]
  },
  {
   "cell_type": "code",
   "execution_count": 52,
   "metadata": {},
   "outputs": [],
   "source": [
    "daily_counts = negative_reviews_smell['date'].value_counts()\n",
    "daily_counts = daily_counts.to_frame().reset_index()\n",
    "daily_counts = daily_counts.rename(columns={\"index\":\"date\", \"date\":\"reviews\"})"
   ]
  },
  {
   "cell_type": "markdown",
   "metadata": {},
   "source": [
    "## 2.3 Combine data\n",
    "\n",
    "The data will be joined on \"date\", however, due to there not always being a review on any given day, days with no reviews will have a value of 0."
   ]
  },
  {
   "cell_type": "code",
   "execution_count": 53,
   "metadata": {},
   "outputs": [],
   "source": [
    "daily_counts = covid_data.join(daily_counts.set_index('date'), on='date')\n",
    "daily_counts = daily_counts.fillna(0)"
   ]
  },
  {
   "cell_type": "code",
   "execution_count": 54,
   "metadata": {},
   "outputs": [
    {
     "data": {
      "text/html": [
       "<div>\n",
       "<style scoped>\n",
       "    .dataframe tbody tr th:only-of-type {\n",
       "        vertical-align: middle;\n",
       "    }\n",
       "\n",
       "    .dataframe tbody tr th {\n",
       "        vertical-align: top;\n",
       "    }\n",
       "\n",
       "    .dataframe thead th {\n",
       "        text-align: right;\n",
       "    }\n",
       "</style>\n",
       "<table border=\"1\" class=\"dataframe\">\n",
       "  <thead>\n",
       "    <tr style=\"text-align: right;\">\n",
       "      <th></th>\n",
       "      <th>date</th>\n",
       "      <th>new_cases</th>\n",
       "      <th>reviews</th>\n",
       "    </tr>\n",
       "  </thead>\n",
       "  <tbody>\n",
       "    <tr>\n",
       "      <th>0</th>\n",
       "      <td>2020-01-22</td>\n",
       "      <td>0.0</td>\n",
       "      <td>0.0</td>\n",
       "    </tr>\n",
       "    <tr>\n",
       "      <th>1</th>\n",
       "      <td>2020-01-23</td>\n",
       "      <td>0.0</td>\n",
       "      <td>0.0</td>\n",
       "    </tr>\n",
       "    <tr>\n",
       "      <th>2</th>\n",
       "      <td>2020-01-24</td>\n",
       "      <td>1.0</td>\n",
       "      <td>1.0</td>\n",
       "    </tr>\n",
       "    <tr>\n",
       "      <th>3</th>\n",
       "      <td>2020-01-25</td>\n",
       "      <td>0.0</td>\n",
       "      <td>0.0</td>\n",
       "    </tr>\n",
       "    <tr>\n",
       "      <th>4</th>\n",
       "      <td>2020-01-26</td>\n",
       "      <td>3.0</td>\n",
       "      <td>0.0</td>\n",
       "    </tr>\n",
       "  </tbody>\n",
       "</table>\n",
       "</div>"
      ],
      "text/plain": [
       "         date  new_cases  reviews\n",
       "0  2020-01-22        0.0      0.0\n",
       "1  2020-01-23        0.0      0.0\n",
       "2  2020-01-24        1.0      1.0\n",
       "3  2020-01-25        0.0      0.0\n",
       "4  2020-01-26        3.0      0.0"
      ]
     },
     "execution_count": 54,
     "metadata": {},
     "output_type": "execute_result"
    }
   ],
   "source": [
    "daily_counts.head()"
   ]
  },
  {
   "cell_type": "markdown",
   "metadata": {},
   "source": [
    "## 2.4 Output combined data"
   ]
  },
  {
   "cell_type": "code",
   "execution_count": 55,
   "metadata": {},
   "outputs": [],
   "source": [
    "daily_counts.to_csv((dir_path + \"/data/processed/covid-reviews-daily.csv\"), index=False)"
   ]
  },
  {
   "cell_type": "markdown",
   "metadata": {},
   "source": [
    "# 3. Process combined data\n",
    "----"
   ]
  },
  {
   "cell_type": "markdown",
   "metadata": {},
   "source": [
    "## 3.1 Calculate 7-Day rolling average"
   ]
  },
  {
   "cell_type": "code",
   "execution_count": 56,
   "metadata": {},
   "outputs": [],
   "source": [
    "# Seed data frame with reviews_by_day df\n",
    "week_rolling_averages = daily_counts\n",
    "\n",
    "# Get the 7 day rolling averages of reviews and new_cases, filling all NaNs' with 0\n",
    "week_rolling_averages['reviews_rolling_avg'] = week_rolling_averages['reviews'].rolling(7).mean().fillna(0)\n",
    "week_rolling_averages['cases_rolling_avg'] = week_rolling_averages['new_cases'].rolling(7).mean().fillna(0)"
   ]
  },
  {
   "cell_type": "markdown",
   "metadata": {},
   "source": [
    "## 3.2 Output data"
   ]
  },
  {
   "cell_type": "code",
   "execution_count": 57,
   "metadata": {},
   "outputs": [],
   "source": [
    "# Output to CSV\n",
    "week_rolling_averages.to_csv((dir_path + \"/data/processed/covid-reviews-weekly-avg.csv\"), index=False)"
   ]
  },
  {
   "cell_type": "markdown",
   "metadata": {},
   "source": [
    "## 3.3 Filter by date\n",
    "\n",
    "For this project we are only looking at the months of October, November, and December 2021."
   ]
  },
  {
   "cell_type": "code",
   "execution_count": 58,
   "metadata": {},
   "outputs": [],
   "source": [
    "# Filter to only include data within the given data range\n",
    "date_filter = (week_rolling_averages['date'] >= \"2021-10-01\") & (week_rolling_averages['date'] <= \"2022-01-01\")\n",
    "week_rolling_averages = week_rolling_averages.loc[date_filter]"
   ]
  },
  {
   "cell_type": "markdown",
   "metadata": {},
   "source": [
    "# 4. Normalize Data\n",
    "----"
   ]
  },
  {
   "cell_type": "code",
   "execution_count": 59,
   "metadata": {},
   "outputs": [],
   "source": [
    "normalized_rolling_avg = pd.DataFrame()\n",
    "normalized_rolling_avg['date'] = week_rolling_averages['date']"
   ]
  },
  {
   "cell_type": "markdown",
   "metadata": {},
   "source": [
    "## 4.1 Min/max normalization"
   ]
  },
  {
   "cell_type": "code",
   "execution_count": 60,
   "metadata": {},
   "outputs": [],
   "source": [
    "# Normalize new cases\n",
    "normalized_rolling_avg['norm_new_cases'] = (week_rolling_averages['new_cases'] - week_rolling_averages['new_cases'].min()) / (week_rolling_averages['new_cases'].max() - week_rolling_averages['new_cases'].min())\n",
    "# Normalize reviews\n",
    "normalized_rolling_avg['norm_reviews'] = (week_rolling_averages['reviews'] - week_rolling_averages['reviews'].min()) / (week_rolling_averages['reviews'].max() - week_rolling_averages['reviews'].min())\n",
    "# Normalize reviews rolling average\n",
    "normalized_rolling_avg['norm_reviews_rolling_avg'] = (week_rolling_averages['reviews_rolling_avg'] - week_rolling_averages['reviews_rolling_avg'].min()) / (week_rolling_averages['reviews_rolling_avg'].max() - week_rolling_averages['reviews_rolling_avg'].min())\n",
    "# Normalize new cases rolling average\n",
    "normalized_rolling_avg['norm_cases_rolling_avg'] = (week_rolling_averages['cases_rolling_avg'] - week_rolling_averages['cases_rolling_avg'].min()) / (week_rolling_averages['cases_rolling_avg'].max() - week_rolling_averages['cases_rolling_avg'].min())"
   ]
  },
  {
   "cell_type": "code",
   "execution_count": 61,
   "metadata": {},
   "outputs": [],
   "source": [
    "# Re-arrange data for formatting\n",
    "normalized_rolling_avg = normalized_rolling_avg[['date', 'norm_reviews', 'norm_new_cases', 'norm_reviews_rolling_avg', 'norm_cases_rolling_avg']]\n",
    "# Convert date column to date time\n",
    "normalized_rolling_avg['date'] = pd.to_datetime(normalized_rolling_avg['date'])"
   ]
  },
  {
   "cell_type": "markdown",
   "metadata": {},
   "source": [
    "## 4.2 Output normalized data"
   ]
  },
  {
   "cell_type": "code",
   "execution_count": 62,
   "metadata": {},
   "outputs": [],
   "source": [
    "# Output to CSV\n",
    "normalized_rolling_avg.to_csv((dir_path + \"/data/processed/normalized-covid-reviews-weekly-avg.csv\"), index=False)"
   ]
  },
  {
   "cell_type": "markdown",
   "metadata": {},
   "source": [
    "# 5. Visualize Data\n",
    "----"
   ]
  },
  {
   "cell_type": "markdown",
   "metadata": {},
   "source": [
    "## Correlation Plot"
   ]
  },
  {
   "cell_type": "code",
   "execution_count": 63,
   "metadata": {},
   "outputs": [
    {
     "data": {
      "text/html": [
       "<style type=\"text/css\">\n",
       "#T_ffd27_row0_col0, #T_ffd27_row1_col1 {\n",
       "  background-color: #b40426;\n",
       "  color: #f1f1f1;\n",
       "}\n",
       "#T_ffd27_row0_col1, #T_ffd27_row1_col0 {\n",
       "  background-color: #3b4cc0;\n",
       "  color: #f1f1f1;\n",
       "}\n",
       "</style>\n",
       "<table id=\"T_ffd27_\">\n",
       "  <thead>\n",
       "    <tr>\n",
       "      <th class=\"blank level0\" >&nbsp;</th>\n",
       "      <th class=\"col_heading level0 col0\" >norm_reviews_rolling_avg</th>\n",
       "      <th class=\"col_heading level0 col1\" >norm_cases_rolling_avg</th>\n",
       "    </tr>\n",
       "  </thead>\n",
       "  <tbody>\n",
       "    <tr>\n",
       "      <th id=\"T_ffd27_level0_row0\" class=\"row_heading level0 row0\" >norm_reviews_rolling_avg</th>\n",
       "      <td id=\"T_ffd27_row0_col0\" class=\"data row0 col0\" >1.000000</td>\n",
       "      <td id=\"T_ffd27_row0_col1\" class=\"data row0 col1\" >0.784402</td>\n",
       "    </tr>\n",
       "    <tr>\n",
       "      <th id=\"T_ffd27_level0_row1\" class=\"row_heading level0 row1\" >norm_cases_rolling_avg</th>\n",
       "      <td id=\"T_ffd27_row1_col0\" class=\"data row1 col0\" >0.784402</td>\n",
       "      <td id=\"T_ffd27_row1_col1\" class=\"data row1 col1\" >1.000000</td>\n",
       "    </tr>\n",
       "  </tbody>\n",
       "</table>\n"
      ],
      "text/plain": [
       "<pandas.io.formats.style.Styler at 0x7facfc30e130>"
      ]
     },
     "execution_count": 63,
     "metadata": {},
     "output_type": "execute_result"
    }
   ],
   "source": [
    "random_state = np.random.RandomState(0)\n",
    "correlation_plot = normalized_rolling_avg[['norm_reviews_rolling_avg', 'norm_cases_rolling_avg']].corr()\n",
    "correlation_plot.style.background_gradient(cmap='coolwarm')"
   ]
  },
  {
   "cell_type": "markdown",
   "metadata": {},
   "source": [
    "## Time Series (normalized, all-time)"
   ]
  },
  {
   "cell_type": "code",
   "execution_count": 81,
   "metadata": {},
   "outputs": [
    {
     "data": {
      "image/png": "[encoded data removed]",
      "text/plain": [
       "<Figure size 720x432 with 1 Axes>"
      ]
     },
     "metadata": {
      "needs_background": "light"
     },
     "output_type": "display_data"
    }
   ],
   "source": [
    "pyplot.rc('font', size=12)\n",
    "fig, ax = pyplot.subplots(figsize=(10, 6))\n",
    "\n",
    "ax.plot(normalized_rolling_avg.date, normalized_rolling_avg.norm_cases_rolling_avg, color='tab:orange', label='Avg. New Cases (Normalized)')\n",
    "ax.plot(normalized_rolling_avg.date, normalized_rolling_avg.norm_reviews_rolling_avg, color='tab:blue', label='Avg. Negative Reviews (Normalized)')\n",
    "\n",
    "ax.set_xlabel('Date')\n",
    "ax.set_ylabel('')\n",
    "ax.set_title('Covid Candles')\n",
    "ax.grid(True)\n",
    "ax.legend(loc='upper left');\n",
    "\n",
    "ax.xaxis.set_major_locator(MonthLocator())\n",
    "ax.xaxis.set_major_formatter(DateFormatter('%b %Y'))"
   ]
  }
 ],
 "metadata": {
  "kernelspec": {
   "display_name": "Python 3",
   "language": "python",
   "name": "python3"
  },
  "language_info": {
   "codemirror_mode": {
    "name": "ipython",
    "version": 3
   },
   "file_extension": ".py",
   "mimetype": "text/x-python",
   "name": "python",
   "nbconvert_exporter": "python",
   "pygments_lexer": "ipython3",
   "version": "3.8.5"
  }
 },
 "nbformat": 4,
 "nbformat_minor": 4
}
